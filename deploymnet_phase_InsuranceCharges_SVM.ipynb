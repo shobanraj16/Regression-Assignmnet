{
 "cells": [
  {
   "cell_type": "code",
   "execution_count": 1,
   "id": "5729f6f8-75f4-4f79-8265-08d0e773dea0",
   "metadata": {},
   "outputs": [],
   "source": [
    "import pickle"
   ]
  },
  {
   "cell_type": "code",
   "execution_count": 2,
   "id": "638e5c31-e89c-499c-a7bb-3a6c4be4207b",
   "metadata": {},
   "outputs": [],
   "source": [
    "loaded_model=pickle.load(open(\"finalized_model_Insurance_Charges_SVM.sav\",'rb'))\n",
    "result=loaded_model.predict([[0,0,0,0,0]])  "
   ]
  },
  {
   "cell_type": "code",
   "execution_count": 3,
   "id": "602e7dd2-6632-4aeb-a56c-0c8f6e7c5166",
   "metadata": {},
   "outputs": [
    {
     "data": {
      "text/plain": [
       "array([8752.32215409])"
      ]
     },
     "execution_count": 3,
     "metadata": {},
     "output_type": "execute_result"
    }
   ],
   "source": [
    "result"
   ]
  },
  {
   "cell_type": "code",
   "execution_count": null,
   "id": "a1cbc3f1-8bef-4a58-b5c1-7da41a5d9f4c",
   "metadata": {},
   "outputs": [],
   "source": []
  }
 ],
 "metadata": {
  "kernelspec": {
   "display_name": "Python 3 (ipykernel)",
   "language": "python",
   "name": "python3"
  },
  "language_info": {
   "codemirror_mode": {
    "name": "ipython",
    "version": 3
   },
   "file_extension": ".py",
   "mimetype": "text/x-python",
   "name": "python",
   "nbconvert_exporter": "python",
   "pygments_lexer": "ipython3",
   "version": "3.12.7"
  }
 },
 "nbformat": 4,
 "nbformat_minor": 5
}
